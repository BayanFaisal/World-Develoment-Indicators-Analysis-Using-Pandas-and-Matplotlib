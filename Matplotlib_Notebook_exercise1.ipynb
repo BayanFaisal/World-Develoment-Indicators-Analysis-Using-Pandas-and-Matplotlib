{
 "cells": [
  {
   "cell_type": "markdown",
   "id": "d970fbb8",
   "metadata": {},
   "source": [
    "**Data Source: https://www.kaggle.com/kaggle/world-development-indicators**\n",
    "\n",
    "**Folder: 'world-development-indicators'**"
   ]
  },
  {
   "cell_type": "markdown",
   "id": "d77a0e83",
   "metadata": {},
   "source": [
    "# Matplotlib: Exploring Data Visualization"
   ]
  },
  {
   "cell_type": "markdown",
   "id": "72d2bfbf",
   "metadata": {},
   "source": [
    "## Step 1: Initial exploration of Dataset"
   ]
  },
  {
   "cell_type": "code",
   "execution_count": 2,
   "id": "94a46b44",
   "metadata": {},
   "outputs": [],
   "source": [
    "import pandas as pd\n",
    "\n",
    "import numpy as np\n",
    "\n",
    "import random \n",
    "\n",
    "import matplotlib.pyplot as plt"
   ]
  },
  {
   "cell_type": "code",
   "execution_count": 3,
   "id": "91162bdb",
   "metadata": {},
   "outputs": [
    {
     "data": {
      "text/plain": [
       "(5656458, 6)"
      ]
     },
     "execution_count": 3,
     "metadata": {},
     "output_type": "execute_result"
    }
   ],
   "source": [
    "# We want to read in the csv file into a pandas data frame and display the shape of the data\n",
    "\n",
    "data = pd.read_csv('C:/Users/ghadq/Desktop/Python-for-Data-Science/Data-Visualization/Week-5-Visualization/world-development-indicators/Indicators.csv')\n",
    "\n",
    "data.shape"
   ]
  },
  {
   "cell_type": "markdown",
   "id": "d6c18bc9",
   "metadata": {},
   "source": [
    "### This is a really large dataset, at least in terms of the number of rows. But with 6 columns. What does this hold?"
   ]
  },
  {
   "cell_type": "code",
   "execution_count": 4,
   "id": "8b69fbb0",
   "metadata": {},
   "outputs": [
    {
     "data": {
      "text/html": [
       "<div>\n",
       "<style scoped>\n",
       "    .dataframe tbody tr th:only-of-type {\n",
       "        vertical-align: middle;\n",
       "    }\n",
       "\n",
       "    .dataframe tbody tr th {\n",
       "        vertical-align: top;\n",
       "    }\n",
       "\n",
       "    .dataframe thead th {\n",
       "        text-align: right;\n",
       "    }\n",
       "</style>\n",
       "<table border=\"1\" class=\"dataframe\">\n",
       "  <thead>\n",
       "    <tr style=\"text-align: right;\">\n",
       "      <th></th>\n",
       "      <th>CountryName</th>\n",
       "      <th>CountryCode</th>\n",
       "      <th>IndicatorName</th>\n",
       "      <th>IndicatorCode</th>\n",
       "      <th>Year</th>\n",
       "      <th>Value</th>\n",
       "    </tr>\n",
       "  </thead>\n",
       "  <tbody>\n",
       "    <tr>\n",
       "      <th>0</th>\n",
       "      <td>Arab World</td>\n",
       "      <td>ARB</td>\n",
       "      <td>Adolescent fertility rate (births per 1,000 wo...</td>\n",
       "      <td>SP.ADO.TFRT</td>\n",
       "      <td>1960</td>\n",
       "      <td>1.335609e+02</td>\n",
       "    </tr>\n",
       "    <tr>\n",
       "      <th>1</th>\n",
       "      <td>Arab World</td>\n",
       "      <td>ARB</td>\n",
       "      <td>Age dependency ratio (% of working-age populat...</td>\n",
       "      <td>SP.POP.DPND</td>\n",
       "      <td>1960</td>\n",
       "      <td>8.779760e+01</td>\n",
       "    </tr>\n",
       "    <tr>\n",
       "      <th>2</th>\n",
       "      <td>Arab World</td>\n",
       "      <td>ARB</td>\n",
       "      <td>Age dependency ratio, old (% of working-age po...</td>\n",
       "      <td>SP.POP.DPND.OL</td>\n",
       "      <td>1960</td>\n",
       "      <td>6.634579e+00</td>\n",
       "    </tr>\n",
       "    <tr>\n",
       "      <th>3</th>\n",
       "      <td>Arab World</td>\n",
       "      <td>ARB</td>\n",
       "      <td>Age dependency ratio, young (% of working-age ...</td>\n",
       "      <td>SP.POP.DPND.YG</td>\n",
       "      <td>1960</td>\n",
       "      <td>8.102333e+01</td>\n",
       "    </tr>\n",
       "    <tr>\n",
       "      <th>4</th>\n",
       "      <td>Arab World</td>\n",
       "      <td>ARB</td>\n",
       "      <td>Arms exports (SIPRI trend indicator values)</td>\n",
       "      <td>MS.MIL.XPRT.KD</td>\n",
       "      <td>1960</td>\n",
       "      <td>3.000000e+06</td>\n",
       "    </tr>\n",
       "    <tr>\n",
       "      <th>5</th>\n",
       "      <td>Arab World</td>\n",
       "      <td>ARB</td>\n",
       "      <td>Arms imports (SIPRI trend indicator values)</td>\n",
       "      <td>MS.MIL.MPRT.KD</td>\n",
       "      <td>1960</td>\n",
       "      <td>5.380000e+08</td>\n",
       "    </tr>\n",
       "    <tr>\n",
       "      <th>6</th>\n",
       "      <td>Arab World</td>\n",
       "      <td>ARB</td>\n",
       "      <td>Birth rate, crude (per 1,000 people)</td>\n",
       "      <td>SP.DYN.CBRT.IN</td>\n",
       "      <td>1960</td>\n",
       "      <td>4.769789e+01</td>\n",
       "    </tr>\n",
       "    <tr>\n",
       "      <th>7</th>\n",
       "      <td>Arab World</td>\n",
       "      <td>ARB</td>\n",
       "      <td>CO2 emissions (kt)</td>\n",
       "      <td>EN.ATM.CO2E.KT</td>\n",
       "      <td>1960</td>\n",
       "      <td>5.956399e+04</td>\n",
       "    </tr>\n",
       "    <tr>\n",
       "      <th>8</th>\n",
       "      <td>Arab World</td>\n",
       "      <td>ARB</td>\n",
       "      <td>CO2 emissions (metric tons per capita)</td>\n",
       "      <td>EN.ATM.CO2E.PC</td>\n",
       "      <td>1960</td>\n",
       "      <td>6.439635e-01</td>\n",
       "    </tr>\n",
       "    <tr>\n",
       "      <th>9</th>\n",
       "      <td>Arab World</td>\n",
       "      <td>ARB</td>\n",
       "      <td>CO2 emissions from gaseous fuel consumption (%...</td>\n",
       "      <td>EN.ATM.CO2E.GF.ZS</td>\n",
       "      <td>1960</td>\n",
       "      <td>5.041292e+00</td>\n",
       "    </tr>\n",
       "  </tbody>\n",
       "</table>\n",
       "</div>"
      ],
      "text/plain": [
       "  CountryName CountryCode                                      IndicatorName  \\\n",
       "0  Arab World         ARB  Adolescent fertility rate (births per 1,000 wo...   \n",
       "1  Arab World         ARB  Age dependency ratio (% of working-age populat...   \n",
       "2  Arab World         ARB  Age dependency ratio, old (% of working-age po...   \n",
       "3  Arab World         ARB  Age dependency ratio, young (% of working-age ...   \n",
       "4  Arab World         ARB        Arms exports (SIPRI trend indicator values)   \n",
       "5  Arab World         ARB        Arms imports (SIPRI trend indicator values)   \n",
       "6  Arab World         ARB               Birth rate, crude (per 1,000 people)   \n",
       "7  Arab World         ARB                                 CO2 emissions (kt)   \n",
       "8  Arab World         ARB             CO2 emissions (metric tons per capita)   \n",
       "9  Arab World         ARB  CO2 emissions from gaseous fuel consumption (%...   \n",
       "\n",
       "       IndicatorCode  Year         Value  \n",
       "0        SP.ADO.TFRT  1960  1.335609e+02  \n",
       "1        SP.POP.DPND  1960  8.779760e+01  \n",
       "2     SP.POP.DPND.OL  1960  6.634579e+00  \n",
       "3     SP.POP.DPND.YG  1960  8.102333e+01  \n",
       "4     MS.MIL.XPRT.KD  1960  3.000000e+06  \n",
       "5     MS.MIL.MPRT.KD  1960  5.380000e+08  \n",
       "6     SP.DYN.CBRT.IN  1960  4.769789e+01  \n",
       "7     EN.ATM.CO2E.KT  1960  5.956399e+04  \n",
       "8     EN.ATM.CO2E.PC  1960  6.439635e-01  \n",
       "9  EN.ATM.CO2E.GF.ZS  1960  5.041292e+00  "
      ]
     },
     "execution_count": 4,
     "metadata": {},
     "output_type": "execute_result"
    }
   ],
   "source": [
    "# We want to use the head method to see where these columns hold\n",
    "\n",
    "data.head(10)"
   ]
  },
  {
   "cell_type": "markdown",
   "id": "18cda0aa",
   "metadata": {},
   "source": [
    "**So this is actually a four-dimensional dataset where the dimensions are country, indicator, year and value.**\n",
    "\n",
    "**As someone who's environmentally conscientious, I'm pretty curious about that CO2 emissions per capita.**"
   ]
  },
  {
   "cell_type": "markdown",
   "id": "52260949",
   "metadata": {},
   "source": [
    "## How many Unique country names are in the dataset?"
   ]
  },
  {
   "cell_type": "code",
   "execution_count": 5,
   "id": "e58c6f3c",
   "metadata": {},
   "outputs": [
    {
     "data": {
      "text/plain": [
       "247"
      ]
     },
     "execution_count": 5,
     "metadata": {},
     "output_type": "execute_result"
    }
   ],
   "source": [
    "# We can test that by using the unique method on a column of the data frame to find out how many \n",
    "# unique entries are in the column.\n",
    "\n",
    "# Pandas Series.tolist() is used to convert a series to list.\n",
    "\n",
    "countries = data['CountryName'].unique().tolist()\n",
    "\n",
    "len(countries)"
   ]
  },
  {
   "cell_type": "markdown",
   "id": "ed0ddbeb",
   "metadata": {},
   "source": [
    "**We've got about 247 countries.**"
   ]
  },
  {
   "cell_type": "markdown",
   "id": "dc689a7e",
   "metadata": {},
   "source": [
    "## Are there same number of country codes?\n",
    "\n",
    "\n",
    "##  How many Unique country codes in the dataset? (# should be the same)"
   ]
  },
  {
   "cell_type": "code",
   "execution_count": 6,
   "id": "b10c469d",
   "metadata": {},
   "outputs": [
    {
     "data": {
      "text/plain": [
       "247"
      ]
     },
     "execution_count": 6,
     "metadata": {},
     "output_type": "execute_result"
    }
   ],
   "source": [
    "# If we've got 247 countries, we should have 247 country codes.\n",
    "\n",
    "countryCodes = data['CountryCode'].unique().tolist()\n",
    "\n",
    "len(countryCodes)"
   ]
  },
  {
   "cell_type": "markdown",
   "id": "214bc1fc",
   "metadata": {},
   "source": [
    "## Are there many indicators or few?"
   ]
  },
  {
   "cell_type": "code",
   "execution_count": 7,
   "id": "fd6c740e",
   "metadata": {},
   "outputs": [
    {
     "data": {
      "text/plain": [
       "1344"
      ]
     },
     "execution_count": 7,
     "metadata": {},
     "output_type": "execute_result"
    }
   ],
   "source": [
    "# We would like to know how many indicators we have in the dataset\n",
    "\n",
    "indicators = data['IndicatorName'].unique().tolist()\n",
    "\n",
    "len(indicators)"
   ]
  },
  {
   "cell_type": "markdown",
   "id": "15f15caf",
   "metadata": {},
   "source": [
    "**We see 1344 indicators and this is a pretty extensive list of indicators.**"
   ]
  },
  {
   "cell_type": "markdown",
   "id": "b0b9b60b",
   "metadata": {},
   "source": [
    "## How many years of data do we have?"
   ]
  },
  {
   "cell_type": "code",
   "execution_count": 8,
   "id": "effcb321",
   "metadata": {},
   "outputs": [
    {
     "data": {
      "text/plain": [
       "56"
      ]
     },
     "execution_count": 8,
     "metadata": {},
     "output_type": "execute_result"
    }
   ],
   "source": [
    "# How many years of data do we have?\n",
    "\n",
    "years = data['Year'].unique().tolist()\n",
    "\n",
    "len(years)"
   ]
  },
  {
   "cell_type": "markdown",
   "id": "e3093a95",
   "metadata": {},
   "source": [
    "**So 56 years is a pretty good time frame for data collection.**"
   ]
  },
  {
   "cell_type": "code",
   "execution_count": 9,
   "id": "cc67c295",
   "metadata": {},
   "outputs": [
    {
     "name": "stdout",
     "output_type": "stream",
     "text": [
      "1960 to 2015\n"
     ]
    }
   ],
   "source": [
    "# We want to see what this time frame is\n",
    "\n",
    "print(min(years), 'to', max(years))"
   ]
  },
  {
   "cell_type": "markdown",
   "id": "72b1ce3f",
   "metadata": {},
   "source": [
    "### We know now that we  have various indicators per country over the time span of 1960 to 2015."
   ]
  },
  {
   "cell_type": "markdown",
   "id": "04d51722",
   "metadata": {},
   "source": [
    "## Matplotlib: Basic Plotting. Part 1"
   ]
  },
  {
   "cell_type": "markdown",
   "id": "18f72dc3",
   "metadata": {},
   "source": [
    "### We would like to pick a country and an indicator to explore: CO2 Emissions per capita for the USA"
   ]
  },
  {
   "cell_type": "code",
   "execution_count": 10,
   "id": "283c07a8",
   "metadata": {},
   "outputs": [],
   "source": [
    "# We want to select CO2 emissions per capita for the USA\n",
    "\n",
    "# To do that, we'll set up two masks, using the string method contains.\n",
    "\n",
    "# pandas.Series.str.contains is used to test if pattren or regex is contained within a string of Series or Index\n",
    "\n",
    "\n",
    "# The first will be a mask for all the rows for which the indicated name contains CO2 emissions.\n",
    "\n",
    "# And the second is those rows whose country code is the USA.\n",
    "\n",
    "\n",
    "hist_indicator = 'CO2 emissions \\(metric'\n",
    "\n",
    "hist_country = 'USA'\n",
    "\n",
    "\n",
    "mask1 = data['IndicatorName'].str.contains(hist_indicator)\n",
    "\n",
    "mask2 = data['CountryCode'].str.contains(hist_country)\n",
    "\n",
    "\n",
    "# We'll keep the results of that data in a temporary data frame called stage.\n",
    "\n",
    "# stage is just those indicators matching the USA for country code and CO2 emissions over time.\n",
    "\n",
    "stage = data[mask1 & mask2] "
   ]
  },
  {
   "cell_type": "code",
   "execution_count": 11,
   "id": "e38b511e",
   "metadata": {},
   "outputs": [
    {
     "data": {
      "text/html": [
       "<div>\n",
       "<style scoped>\n",
       "    .dataframe tbody tr th:only-of-type {\n",
       "        vertical-align: middle;\n",
       "    }\n",
       "\n",
       "    .dataframe tbody tr th {\n",
       "        vertical-align: top;\n",
       "    }\n",
       "\n",
       "    .dataframe thead th {\n",
       "        text-align: right;\n",
       "    }\n",
       "</style>\n",
       "<table border=\"1\" class=\"dataframe\">\n",
       "  <thead>\n",
       "    <tr style=\"text-align: right;\">\n",
       "      <th></th>\n",
       "      <th>CountryName</th>\n",
       "      <th>CountryCode</th>\n",
       "      <th>IndicatorName</th>\n",
       "      <th>IndicatorCode</th>\n",
       "      <th>Year</th>\n",
       "      <th>Value</th>\n",
       "    </tr>\n",
       "  </thead>\n",
       "  <tbody>\n",
       "    <tr>\n",
       "      <th>22232</th>\n",
       "      <td>United States</td>\n",
       "      <td>USA</td>\n",
       "      <td>CO2 emissions (metric tons per capita)</td>\n",
       "      <td>EN.ATM.CO2E.PC</td>\n",
       "      <td>1960</td>\n",
       "      <td>15.999779</td>\n",
       "    </tr>\n",
       "    <tr>\n",
       "      <th>48708</th>\n",
       "      <td>United States</td>\n",
       "      <td>USA</td>\n",
       "      <td>CO2 emissions (metric tons per capita)</td>\n",
       "      <td>EN.ATM.CO2E.PC</td>\n",
       "      <td>1961</td>\n",
       "      <td>15.681256</td>\n",
       "    </tr>\n",
       "    <tr>\n",
       "      <th>77087</th>\n",
       "      <td>United States</td>\n",
       "      <td>USA</td>\n",
       "      <td>CO2 emissions (metric tons per capita)</td>\n",
       "      <td>EN.ATM.CO2E.PC</td>\n",
       "      <td>1962</td>\n",
       "      <td>16.013937</td>\n",
       "    </tr>\n",
       "    <tr>\n",
       "      <th>105704</th>\n",
       "      <td>United States</td>\n",
       "      <td>USA</td>\n",
       "      <td>CO2 emissions (metric tons per capita)</td>\n",
       "      <td>EN.ATM.CO2E.PC</td>\n",
       "      <td>1963</td>\n",
       "      <td>16.482762</td>\n",
       "    </tr>\n",
       "    <tr>\n",
       "      <th>134742</th>\n",
       "      <td>United States</td>\n",
       "      <td>USA</td>\n",
       "      <td>CO2 emissions (metric tons per capita)</td>\n",
       "      <td>EN.ATM.CO2E.PC</td>\n",
       "      <td>1964</td>\n",
       "      <td>16.968119</td>\n",
       "    </tr>\n",
       "  </tbody>\n",
       "</table>\n",
       "</div>"
      ],
      "text/plain": [
       "          CountryName CountryCode                           IndicatorName  \\\n",
       "22232   United States         USA  CO2 emissions (metric tons per capita)   \n",
       "48708   United States         USA  CO2 emissions (metric tons per capita)   \n",
       "77087   United States         USA  CO2 emissions (metric tons per capita)   \n",
       "105704  United States         USA  CO2 emissions (metric tons per capita)   \n",
       "134742  United States         USA  CO2 emissions (metric tons per capita)   \n",
       "\n",
       "         IndicatorCode  Year      Value  \n",
       "22232   EN.ATM.CO2E.PC  1960  15.999779  \n",
       "48708   EN.ATM.CO2E.PC  1961  15.681256  \n",
       "77087   EN.ATM.CO2E.PC  1962  16.013937  \n",
       "105704  EN.ATM.CO2E.PC  1963  16.482762  \n",
       "134742  EN.ATM.CO2E.PC  1964  16.968119  "
      ]
     },
     "execution_count": 11,
     "metadata": {},
     "output_type": "execute_result"
    }
   ],
   "source": [
    "# We want to check to see what's in our data frame\n",
    "\n",
    "stage.head()"
   ]
  },
  {
   "cell_type": "markdown",
   "id": "b5a46530",
   "metadata": {},
   "source": [
    "**We have our new data frame. The country code is USA and it's CO2 emissions.**\n",
    "\n",
    "**So, we have the CO2 emissions, per capita, by year for the United States.**"
   ]
  },
  {
   "cell_type": "markdown",
   "id": "b4d226b0",
   "metadata": {},
   "source": [
    "### We want to see how emissions have changed over time using Matplotlib"
   ]
  },
  {
   "cell_type": "code",
   "execution_count": 12,
   "id": "a56e8456",
   "metadata": {},
   "outputs": [
    {
     "data": {
      "text/plain": [
       "<function matplotlib.pyplot.show(close=None, block=None)>"
      ]
     },
     "execution_count": 12,
     "metadata": {},
     "output_type": "execute_result"
    },
    {
     "data": {
      "image/png": "[encoded data removed]",
      "text/plain": [
       "<Figure size 432x288 with 1 Axes>"
      ]
     },
     "metadata": {
      "needs_background": "light"
     },
     "output_type": "display_data"
    }
   ],
   "source": [
    "# We can do this, in two lines of code.\n",
    "\n",
    "# What we'll do is we'll grab the years and then CO2 emissions separately and then we'll send those to a bar chart.\n",
    "\n",
    "# get the years \n",
    "\n",
    "years = stage['Year'].values      # pandas.DataFrame.values is used to return a Numpy representation of the DataFrame.\n",
    "\n",
    "# get the values\n",
    "\n",
    "co2 = stage['Value'].values\n",
    "\n",
    "co2\n",
    "\n",
    "# create a bar chart\n",
    "\n",
    "plt.bar(years, co2)\n",
    "\n",
    "plt.show"
   ]
  },
  {
   "cell_type": "markdown",
   "id": "faf0b401",
   "metadata": {},
   "source": [
    "**We can see a rise in CO2 emissions per capita from 1960 to 1970. And that's remained fairly steady since.**\n",
    "\n",
    "**The plot isn't perfect, we don't have a y-axis label, which is really  important. But, that's okay if we're just trying to explore the data.**\n",
    "\n",
    "\n",
    "**Turns out CO2 emissions per capita have dropped a bit over time. But, we want to make this graphic a bit more appealing before we continue to explore it.**"
   ]
  },
  {
   "cell_type": "code",
   "execution_count": 13,
   "id": "1fef6d71",
   "metadata": {},
   "outputs": [
    {
     "data": {
      "image/png": "[encoded data removed]",
      "text/plain": [
       "<Figure size 432x288 with 1 Axes>"
      ]
     },
     "metadata": {
      "needs_background": "light"
     },
     "output_type": "display_data"
    }
   ],
   "source": [
    "# We want to switch to a line plot\n",
    "\n",
    "plt.plot(stage['Year'].values, stage['Value'].values)\n",
    "\n",
    "# We would like to label the axes\n",
    "\n",
    "plt.xlabel('Year')\n",
    "\n",
    "plt.ylabel(stage['IndicatorName'].iloc[0])\n",
    "\n",
    "\n",
    "# We want to label the figure\n",
    "\n",
    "plt.title('CO2 Emissions in USA')\n",
    "\n",
    "\n",
    "# to make more honest, we want to start they y-axis at 0\n",
    "\n",
    "#plt.axis([1959, 2011, 0, 25])\n",
    "\n",
    "\n",
    "plt.show()"
   ]
  },
  {
   "cell_type": "markdown",
   "id": "fb145c48",
   "metadata": {},
   "source": [
    "**We notice that the y-axis is actually starting at 15, and that could be misleading.**\n",
    "\n",
    "**So we want to fix that by making a call to axis and passing the ranges we want to plotted.**"
   ]
  },
  {
   "cell_type": "code",
   "execution_count": 14,
   "id": "7962cf30",
   "metadata": {},
   "outputs": [
    {
     "data": {
      "image/png": "[encoded data removed]",
      "text/plain": [
       "<Figure size 432x288 with 1 Axes>"
      ]
     },
     "metadata": {
      "needs_background": "light"
     },
     "output_type": "display_data"
    }
   ],
   "source": [
    "# We want to switch to a line plot\n",
    "\n",
    "plt.plot(stage['Year'].values, stage['Value'].values)\n",
    "\n",
    "# We would like to label the axes\n",
    "\n",
    "plt.xlabel('Year')\n",
    "\n",
    "plt.ylabel(stage['IndicatorName'].iloc[0])\n",
    "\n",
    "\n",
    "# We want to label the figure\n",
    "\n",
    "plt.title('CO2 Emissions in USA')\n",
    "\n",
    "\n",
    "\n",
    "# to make more honest, we want to start they y-axis at 0\n",
    "\n",
    "plt.axis([1959, 2011, 0, 25])\n",
    "\n",
    "\n",
    "plt.show()"
   ]
  },
  {
   "cell_type": "markdown",
   "id": "e306d718",
   "metadata": {},
   "source": [
    "**The plot now is arguably better than the original bar chart.\n",
    "And it certainly stands alone better. Because of the proper labeling of the y-axis.**"
   ]
  },
  {
   "cell_type": "markdown",
   "id": "65cdd076",
   "metadata": {},
   "source": [
    "## Using Histograms to explore the distribution of values"
   ]
  },
  {
   "cell_type": "markdown",
   "id": "e98ffea7",
   "metadata": {},
   "source": [
    "**We could visualize this data as a histogram to better explore the ranges of values in CO2 production per year.**"
   ]
  },
  {
   "cell_type": "code",
   "execution_count": 15,
   "id": "6a5e41a4",
   "metadata": {},
   "outputs": [
    {
     "data": {
      "text/plain": [
       "array([15.99977916, 15.68125552, 16.0139375 , 16.48276215, 16.96811858,\n",
       "       17.45172525, 18.12107301, 18.59831788, 19.08938916, 19.85794566,\n",
       "       21.11125227, 20.98020348, 21.74864198, 22.51058213, 21.50293038,\n",
       "       20.40222407, 21.15761537, 21.53248401, 21.97300469, 21.78043698,\n",
       "       20.78648774, 19.76676417, 18.59049523, 18.57154371, 18.97675027,\n",
       "       18.88231274, 18.72072272, 19.35033442, 20.01041341, 20.07576978,\n",
       "       19.32336817, 19.06223666, 19.14555576, 19.36346258, 19.37655644,\n",
       "       19.29565986, 19.52789051, 19.71427574, 19.6151546 , 19.74781478,\n",
       "       20.20761476, 19.65619321, 19.63919577, 19.57623905, 19.68358135,\n",
       "       19.61027504, 19.11613882, 19.23746045, 18.48923375, 17.1923791 ,\n",
       "       17.48479218, 17.02021634])"
      ]
     },
     "execution_count": 15,
     "metadata": {},
     "output_type": "execute_result"
    }
   ],
   "source": [
    "# We put some code in here, which would let us explore the values within one standard deviation\n",
    "\n",
    "# Sometimes it's helpful with histograms to avoid the data getting too spread out because of outliers.\n",
    "\n",
    "#If we want to just include those within one standard deviation for the mean, we could do the following\n",
    "\n",
    "\n",
    "\n",
    "#lower = stage['Value'].mean() - stage['Value'].std()\n",
    "\n",
    "#upper = stage['Value'].mean() + stage['Value'].std()\n",
    "\n",
    "#hist_data = [x for x in stage[ : 10000]['Value'] if x > lower and x < upper]\n",
    "\n",
    "\n",
    "\n",
    "# Otherwise, let's look at all the data\n",
    "\n",
    "# We want to get the hist data point to all the CO2 emissions per capita values in our current data set.\n",
    "\n",
    "hist_data = stage['Value'].values\n",
    "\n",
    "\n",
    "hist_data"
   ]
  },
  {
   "cell_type": "code",
   "execution_count": 16,
   "id": "8d03872f",
   "metadata": {},
   "outputs": [
    {
     "data": {
      "text/plain": [
       "52"
      ]
     },
     "execution_count": 16,
     "metadata": {},
     "output_type": "execute_result"
    }
   ],
   "source": [
    "len(hist_data)"
   ]
  },
  {
   "cell_type": "code",
   "execution_count": 17,
   "id": "962e4751",
   "metadata": {},
   "outputs": [
    {
     "data": {
      "image/png": "[encoded data removed]",
      "text/plain": [
       "<Figure size 432x288 with 1 Axes>"
      ]
     },
     "metadata": {
      "needs_background": "light"
     },
     "output_type": "display_data"
    }
   ],
   "source": [
    "# We want to plot those 52 elements using plot.hist method, which is the call to create a histogram\n",
    "\n",
    "# the histogram of the data\n",
    "\n",
    "\n",
    "# We are passing tht method .hist(),  the ndarray (hist_data), then 10 for the number of bins.\n",
    "\n",
    "# Then we are setting  the density to be false. To make sure it doesn't scale the data.\n",
    "\n",
    "# And then, we are setting the color to be green. \n",
    "\n",
    "# Then, we'll label the axes and label the plot\n",
    "\n",
    "\n",
    "\n",
    "plt.hist(hist_data, 10, density = False, facecolor = 'green')\n",
    "\n",
    "\n",
    "plt.xlabel(stage['IndicatorName'].iloc[0])\n",
    "\n",
    "plt.ylabel('# of the years')\n",
    "\n",
    "plt.title('Histogram Example')\n",
    "\n",
    "\n",
    "\n",
    "#plt.grid(True)\n",
    "\n",
    "\n",
    "plt.show()"
   ]
  },
  {
   "cell_type": "markdown",
   "id": "493719ca",
   "metadata": {},
   "source": [
    "**What we get back is a histogram binning CO2 emissions per capita for the US.**\n",
    "\n",
    "**This is really telling us that most years fall between 18.5 and 20, with some outliers.**"
   ]
  },
  {
   "cell_type": "code",
   "execution_count": 18,
   "id": "bf4d79b6",
   "metadata": {},
   "outputs": [
    {
     "data": {
      "image/png": "[encoded data removed]",
      "text/plain": [
       "<Figure size 432x288 with 1 Axes>"
      ]
     },
     "metadata": {
      "needs_background": "light"
     },
     "output_type": "display_data"
    }
   ],
   "source": [
    "# Now we find it hard to read, so we will add  the grids. \n",
    "\n",
    "plt.hist(hist_data, 10, density = False, facecolor = 'green')\n",
    "\n",
    "\n",
    "plt.xlabel(stage['IndicatorName'].iloc[0])\n",
    "\n",
    "plt.ylabel('# of the years')\n",
    "\n",
    "plt.title('Histogram Example')\n",
    "\n",
    "\n",
    "plt.grid(True)\n",
    "\n",
    "\n",
    "plt.show()"
   ]
  },
  {
   "cell_type": "markdown",
   "id": "dd278a3c",
   "metadata": {},
   "source": [
    "**So the USA has many years where it produced between 19-20 metric tons per capita with outliers on either side.**\n"
   ]
  },
  {
   "cell_type": "markdown",
   "id": "a57248c1",
   "metadata": {},
   "source": [
    "## How do the USA's numbers relate to those of other countries?"
   ]
  },
  {
   "cell_type": "code",
   "execution_count": 19,
   "id": "bcb4698a",
   "metadata": {},
   "outputs": [
    {
     "data": {
      "text/html": [
       "<div>\n",
       "<style scoped>\n",
       "    .dataframe tbody tr th:only-of-type {\n",
       "        vertical-align: middle;\n",
       "    }\n",
       "\n",
       "    .dataframe tbody tr th {\n",
       "        vertical-align: top;\n",
       "    }\n",
       "\n",
       "    .dataframe thead th {\n",
       "        text-align: right;\n",
       "    }\n",
       "</style>\n",
       "<table border=\"1\" class=\"dataframe\">\n",
       "  <thead>\n",
       "    <tr style=\"text-align: right;\">\n",
       "      <th></th>\n",
       "      <th>CountryName</th>\n",
       "      <th>CountryCode</th>\n",
       "      <th>IndicatorName</th>\n",
       "      <th>IndicatorCode</th>\n",
       "      <th>Year</th>\n",
       "      <th>Value</th>\n",
       "    </tr>\n",
       "  </thead>\n",
       "  <tbody>\n",
       "    <tr>\n",
       "      <th>5026275</th>\n",
       "      <td>Arab World</td>\n",
       "      <td>ARB</td>\n",
       "      <td>CO2 emissions (metric tons per capita)</td>\n",
       "      <td>EN.ATM.CO2E.PC</td>\n",
       "      <td>2011</td>\n",
       "      <td>4.724500</td>\n",
       "    </tr>\n",
       "    <tr>\n",
       "      <th>5026788</th>\n",
       "      <td>Caribbean small states</td>\n",
       "      <td>CSS</td>\n",
       "      <td>CO2 emissions (metric tons per capita)</td>\n",
       "      <td>EN.ATM.CO2E.PC</td>\n",
       "      <td>2011</td>\n",
       "      <td>9.692960</td>\n",
       "    </tr>\n",
       "    <tr>\n",
       "      <th>5027295</th>\n",
       "      <td>Central Europe and the Baltics</td>\n",
       "      <td>CEB</td>\n",
       "      <td>CO2 emissions (metric tons per capita)</td>\n",
       "      <td>EN.ATM.CO2E.PC</td>\n",
       "      <td>2011</td>\n",
       "      <td>6.911131</td>\n",
       "    </tr>\n",
       "    <tr>\n",
       "      <th>5027870</th>\n",
       "      <td>East Asia &amp; Pacific (all income levels)</td>\n",
       "      <td>EAS</td>\n",
       "      <td>CO2 emissions (metric tons per capita)</td>\n",
       "      <td>EN.ATM.CO2E.PC</td>\n",
       "      <td>2011</td>\n",
       "      <td>5.859548</td>\n",
       "    </tr>\n",
       "    <tr>\n",
       "      <th>5028456</th>\n",
       "      <td>East Asia &amp; Pacific (developing only)</td>\n",
       "      <td>EAP</td>\n",
       "      <td>CO2 emissions (metric tons per capita)</td>\n",
       "      <td>EN.ATM.CO2E.PC</td>\n",
       "      <td>2011</td>\n",
       "      <td>5.302499</td>\n",
       "    </tr>\n",
       "  </tbody>\n",
       "</table>\n",
       "</div>"
      ],
      "text/plain": [
       "                                     CountryName CountryCode  \\\n",
       "5026275                               Arab World         ARB   \n",
       "5026788                   Caribbean small states         CSS   \n",
       "5027295           Central Europe and the Baltics         CEB   \n",
       "5027870  East Asia & Pacific (all income levels)         EAS   \n",
       "5028456    East Asia & Pacific (developing only)         EAP   \n",
       "\n",
       "                                  IndicatorName   IndicatorCode  Year  \\\n",
       "5026275  CO2 emissions (metric tons per capita)  EN.ATM.CO2E.PC  2011   \n",
       "5026788  CO2 emissions (metric tons per capita)  EN.ATM.CO2E.PC  2011   \n",
       "5027295  CO2 emissions (metric tons per capita)  EN.ATM.CO2E.PC  2011   \n",
       "5027870  CO2 emissions (metric tons per capita)  EN.ATM.CO2E.PC  2011   \n",
       "5028456  CO2 emissions (metric tons per capita)  EN.ATM.CO2E.PC  2011   \n",
       "\n",
       "            Value  \n",
       "5026275  4.724500  \n",
       "5026788  9.692960  \n",
       "5027295  6.911131  \n",
       "5027870  5.859548  \n",
       "5028456  5.302499  "
      ]
     },
     "execution_count": 19,
     "metadata": {},
     "output_type": "execute_result"
    }
   ],
   "source": [
    "# It's easier for us get the counts for the number of years. Given that we usually fall 19 and 20 metric tons per capita.\n",
    "\n",
    "# We are curious how the US stacks up, relative to other countries. \n",
    "\n",
    "# SO we want to pick a recent year, where we have data for the US, 2011.\n",
    "\n",
    "# We want to selct CO2 emissions for all countries in 2011\n",
    "\n",
    "# We'll ask for the data where the indicator is CO2 emissions per capita, and the year is 2011.\n",
    "\n",
    "# That should give us all the countries that gave us data over that time window.\n",
    "\n",
    "\n",
    "\n",
    "hist_indicator = 'CO2 emissions \\(metric'\n",
    "\n",
    "hist_year = 2011\n",
    "\n",
    "\n",
    "mask1 = data['IndicatorName'].str.contains(hist_indicator)\n",
    "\n",
    "mask2 = data['Year'].isin([hist_year])\n",
    "\n",
    "\n",
    "# apply our mask\n",
    "\n",
    "co2_2011 = data[mask1 & mask2]\n",
    "\n",
    "\n",
    "co2_2011.head()"
   ]
  },
  {
   "cell_type": "markdown",
   "id": "8ccc1aec",
   "metadata": {},
   "source": [
    "**We have different countries and their CO2 emissions per capita in 2011.**\n",
    "\n",
    "**We know, just looking at these values 4.7,  6.9,  5.8,  5.3. We are already suspecting the US might produce more CO2 emissions per person than other countries.**\n",
    "\n",
    "\n",
    "**for how many countries do we have CO2  per capita emissions data in 2011.**"
   ]
  },
  {
   "cell_type": "code",
   "execution_count": 20,
   "id": "4dca2b65",
   "metadata": {},
   "outputs": [
    {
     "data": {
      "text/plain": [
       "232"
      ]
     },
     "execution_count": 20,
     "metadata": {},
     "output_type": "execute_result"
    }
   ],
   "source": [
    "# How many countries do we have here?\n",
    "\n",
    "len(co2_2011)"
   ]
  },
  {
   "cell_type": "markdown",
   "id": "c79d6c09",
   "metadata": {},
   "source": [
    "**We've got 232. And that would include the US because we didn't do anything special to exclude the US.**"
   ]
  },
  {
   "cell_type": "code",
   "execution_count": 23,
   "id": "3f2b70f0",
   "metadata": {},
   "outputs": [
    {
     "data": {
      "image/png": "[encoded data removed]",
      "text/plain": [
       "<Figure size 432x288 with 1 Axes>"
      ]
     },
     "metadata": {
      "needs_background": "light"
     },
     "output_type": "display_data"
    }
   ],
   "source": [
    "# We want to plot a histogram of the emissions per capita by country.\n",
    "\n",
    "# subplots returns a touple with the figure , axis attributes\n",
    "\n",
    "# # Calling plt.subplots method gives us back the figure and the axis separately.\n",
    "\n",
    "\n",
    "fig, ax = plt.subplots()\n",
    "\n",
    "\n",
    "ax.annotate('USA',\n",
    "             xy = (18, 5), xycoords = 'data',\n",
    "             xytext = (18, 30), textcoords = 'data', \n",
    "              arrowprops = dict(arrowstyle = '->', connectionstyle = 'arc3'), )\n",
    "\n",
    "\n",
    "# We're setting up basically the same histogram as our last one.\n",
    "# Except this time, we're counting the number of countries with a \n",
    "# certain amount of emissions per person rather than a number of years.\n",
    "\n",
    "\n",
    "\n",
    "plt.hist(co2_2011['Value'], 10, density = False, facecolor = 'green')\n",
    "\n",
    "\n",
    "plt.xlabel(stage['IndicatorName'].iloc[0])\n",
    "\n",
    "plt.ylabel('# of countries')\n",
    "\n",
    "plt.title('Histogram of CO2 Emissions Per Capita')\n",
    "\n",
    "\n",
    "#plt.axis([10, 22, 0, 14])\n",
    "\n",
    "\n",
    "plt.grid(True)\n",
    "\n",
    "\n",
    "plt.show()"
   ]
  },
  {
   "cell_type": "markdown",
   "id": "090709f6",
   "metadata": {},
   "source": [
    "**It looks like the vast majority of countries have CO2 emissions in the range of zero to 10 metric tons per capita.**\n",
    "\n",
    "**The US, at around 17, in 2011, is actually a real outlier.**"
   ]
  },
  {
   "cell_type": "markdown",
   "id": "fbbd7c42",
   "metadata": {},
   "source": [
    "**But where'd that nice label of the USA come from?**\n",
    "\n",
    "**Matplotlib supports doing more complex things. Like, adding annotations or lines to charts.**\n",
    "\n",
    "**If we go back to the code, we'll notice that we added an annotation to the string USA.**\n",
    "\n",
    "**We placed it at the coordinates 18, 30.  And then drew a line from corners 18, 30 to 18, 5.**\n",
    "\n",
    "**We know, there are more parameters to the annotate method if we wish to read the documentation more.**\n",
    "\n",
    "**We want to point out that we can do more advanced graphics with Matplotlib.**"
   ]
  },
  {
   "cell_type": "markdown",
   "id": "beba50a2",
   "metadata": {},
   "source": [
    "**An interesting next step, would be to explore how this relates to other industrialized nations and to look at the outliers with those values in the 40s!**"
   ]
  },
  {
   "cell_type": "markdown",
   "id": "c001c60f",
   "metadata": {},
   "source": [
    "# Matplotlib: Baisc Plotting, Bart 2"
   ]
  },
  {
   "cell_type": "markdown",
   "id": "495744b9",
   "metadata": {},
   "source": [
    "### Relationship between GDP and CO2 Emissions in USA"
   ]
  },
  {
   "cell_type": "code",
   "execution_count": 30,
   "id": "0e7da3df",
   "metadata": {},
   "outputs": [],
   "source": [
    "# select GDP Per capita emissions for the United States\n",
    "\n",
    "# We want to set up some more masks to pull out the GDP per capita for the U.S.A., over time.\n",
    "\n",
    "\n",
    "hist_indicator = 'GDP per capita \\(constant 2005'\n",
    "\n",
    "hist_country = 'USA'\n",
    "\n",
    "mask1 = data['IndicatorName'].str.contains(hist_indicator) \n",
    "\n",
    "mask2 = data['CountryCode'].str.contains(hist_country)\n",
    "\n",
    "\n",
    "# stage is just those indicators matching the USA for country code and CO2 emissions over time\n",
    "\n",
    "gdp_stage = data[mask1 & mask2]\n",
    "\n",
    "# plot gdp_stage vs stage\n"
   ]
  },
  {
   "cell_type": "code",
   "execution_count": 31,
   "id": "d0ed28c9",
   "metadata": {},
   "outputs": [
    {
     "data": {
      "text/html": [
       "<div>\n",
       "<style scoped>\n",
       "    .dataframe tbody tr th:only-of-type {\n",
       "        vertical-align: middle;\n",
       "    }\n",
       "\n",
       "    .dataframe tbody tr th {\n",
       "        vertical-align: top;\n",
       "    }\n",
       "\n",
       "    .dataframe thead th {\n",
       "        text-align: right;\n",
       "    }\n",
       "</style>\n",
       "<table border=\"1\" class=\"dataframe\">\n",
       "  <thead>\n",
       "    <tr style=\"text-align: right;\">\n",
       "      <th></th>\n",
       "      <th>CountryName</th>\n",
       "      <th>CountryCode</th>\n",
       "      <th>IndicatorName</th>\n",
       "      <th>IndicatorCode</th>\n",
       "      <th>Year</th>\n",
       "      <th>Value</th>\n",
       "    </tr>\n",
       "  </thead>\n",
       "  <tbody>\n",
       "    <tr>\n",
       "      <th>22282</th>\n",
       "      <td>United States</td>\n",
       "      <td>USA</td>\n",
       "      <td>GDP per capita (constant 2005 US$)</td>\n",
       "      <td>NY.GDP.PCAP.KD</td>\n",
       "      <td>1960</td>\n",
       "      <td>15482.707760</td>\n",
       "    </tr>\n",
       "    <tr>\n",
       "      <th>48759</th>\n",
       "      <td>United States</td>\n",
       "      <td>USA</td>\n",
       "      <td>GDP per capita (constant 2005 US$)</td>\n",
       "      <td>NY.GDP.PCAP.KD</td>\n",
       "      <td>1961</td>\n",
       "      <td>15578.409657</td>\n",
       "    </tr>\n",
       "  </tbody>\n",
       "</table>\n",
       "</div>"
      ],
      "text/plain": [
       "         CountryName CountryCode                       IndicatorName  \\\n",
       "22282  United States         USA  GDP per capita (constant 2005 US$)   \n",
       "48759  United States         USA  GDP per capita (constant 2005 US$)   \n",
       "\n",
       "        IndicatorCode  Year         Value  \n",
       "22282  NY.GDP.PCAP.KD  1960  15482.707760  \n",
       "48759  NY.GDP.PCAP.KD  1961  15578.409657  "
      ]
     },
     "execution_count": 31,
     "metadata": {},
     "output_type": "execute_result"
    }
   ],
   "source": [
    "gdp_stage.head(2)"
   ]
  },
  {
   "cell_type": "markdown",
   "id": "ec92fb73",
   "metadata": {},
   "source": [
    "**Per year, we have the GDP per capita, based in the value of U.S. dollars in 2005.**"
   ]
  },
  {
   "cell_type": "code",
   "execution_count": 32,
   "id": "3c9ef1e6",
   "metadata": {},
   "outputs": [
    {
     "data": {
      "text/html": [
       "<div>\n",
       "<style scoped>\n",
       "    .dataframe tbody tr th:only-of-type {\n",
       "        vertical-align: middle;\n",
       "    }\n",
       "\n",
       "    .dataframe tbody tr th {\n",
       "        vertical-align: top;\n",
       "    }\n",
       "\n",
       "    .dataframe thead th {\n",
       "        text-align: right;\n",
       "    }\n",
       "</style>\n",
       "<table border=\"1\" class=\"dataframe\">\n",
       "  <thead>\n",
       "    <tr style=\"text-align: right;\">\n",
       "      <th></th>\n",
       "      <th>CountryName</th>\n",
       "      <th>CountryCode</th>\n",
       "      <th>IndicatorName</th>\n",
       "      <th>IndicatorCode</th>\n",
       "      <th>Year</th>\n",
       "      <th>Value</th>\n",
       "    </tr>\n",
       "  </thead>\n",
       "  <tbody>\n",
       "    <tr>\n",
       "      <th>22232</th>\n",
       "      <td>United States</td>\n",
       "      <td>USA</td>\n",
       "      <td>CO2 emissions (metric tons per capita)</td>\n",
       "      <td>EN.ATM.CO2E.PC</td>\n",
       "      <td>1960</td>\n",
       "      <td>15.999779</td>\n",
       "    </tr>\n",
       "    <tr>\n",
       "      <th>48708</th>\n",
       "      <td>United States</td>\n",
       "      <td>USA</td>\n",
       "      <td>CO2 emissions (metric tons per capita)</td>\n",
       "      <td>EN.ATM.CO2E.PC</td>\n",
       "      <td>1961</td>\n",
       "      <td>15.681256</td>\n",
       "    </tr>\n",
       "  </tbody>\n",
       "</table>\n",
       "</div>"
      ],
      "text/plain": [
       "         CountryName CountryCode                           IndicatorName  \\\n",
       "22232  United States         USA  CO2 emissions (metric tons per capita)   \n",
       "48708  United States         USA  CO2 emissions (metric tons per capita)   \n",
       "\n",
       "        IndicatorCode  Year      Value  \n",
       "22232  EN.ATM.CO2E.PC  1960  15.999779  \n",
       "48708  EN.ATM.CO2E.PC  1961  15.681256  "
      ]
     },
     "execution_count": 32,
     "metadata": {},
     "output_type": "execute_result"
    }
   ],
   "source": [
    "stage.head(2)"
   ]
  },
  {
   "cell_type": "code",
   "execution_count": 33,
   "id": "53589d62",
   "metadata": {},
   "outputs": [
    {
     "data": {
      "image/png": "[encoded data removed]",
      "text/plain": [
       "<Figure size 432x288 with 1 Axes>"
      ]
     },
     "metadata": {
      "needs_background": "light"
     },
     "output_type": "display_data"
    }
   ],
   "source": [
    "# switch to a line plot\n",
    "\n",
    "plt.plot(gdp_stage['Year'].values, gdp_stage['Value'].values)\n",
    "\n",
    "\n",
    "#label the axes\n",
    "\n",
    "plt.xlabel('Year')\n",
    "\n",
    "plt.ylabel(gdp_stage['IndicatorName'].iloc[0])\n",
    "\n",
    "\n",
    "#label the figure\n",
    "\n",
    "plt.title('GDP Per Capita USA')\n",
    "\n",
    "\n",
    "# to make more honest, start y axis at 0\n",
    "\n",
    "#plt.axis(1959, 2011, 0, 25)\n",
    "\n",
    "\n",
    "plt.show()"
   ]
  },
  {
   "cell_type": "markdown",
   "id": "f96a8f19",
   "metadata": {},
   "source": [
    "**For the most part, we're seeing solid growth, over time. There are a couple dips here and there, and one, noticeable dip\n",
    "in the recession around 2008. But the upper trend, is restored by 2010.**"
   ]
  },
  {
   "cell_type": "markdown",
   "id": "465364da",
   "metadata": {},
   "source": [
    "**So, knowing that CO2 emissions over that same time period didn't behave the same way, leads us to think that they aren't closely related.**\n",
    "\n",
    "**But,  we want to look at a scatter plot to see.**"
   ]
  },
  {
   "cell_type": "markdown",
   "id": "acb4919e",
   "metadata": {},
   "source": [
    "## Scatter Plot for comaring GDP against CO2 emissions (per capita)"
   ]
  },
  {
   "cell_type": "markdown",
   "id": "a7dcf160",
   "metadata": {},
   "source": [
    "### First, we'll need to make sure we're looking at the same time frames by calling min and max in these columns."
   ]
  },
  {
   "cell_type": "code",
   "execution_count": 34,
   "id": "21a6546c",
   "metadata": {},
   "outputs": [
    {
     "name": "stdout",
     "output_type": "stream",
     "text": [
      "GDP Min Year =  1960 max:  2014\n",
      "CO2 Min Year =  1960 max:  2011\n"
     ]
    }
   ],
   "source": [
    "# The reason we wanna make sure these are the same, is that scatter plots require the same number of years in the data set.\n",
    "\n",
    "print('GDP Min Year = ', gdp_stage['Year'].min(), 'max: ', gdp_stage['Year'].max())\n",
    "\n",
    "print('CO2 Min Year = ', stage['Year'].min(), 'max: ', stage['Year'].max())"
   ]
  },
  {
   "cell_type": "markdown",
   "id": "a36d712a",
   "metadata": {},
   "source": [
    "**We have 3 extra years of GDP data, so let's trim those off so the scatter plot has equal length arrays to compare (this is actually required by scatter plot)**"
   ]
  },
  {
   "cell_type": "code",
   "execution_count": 37,
   "id": "92c9f965",
   "metadata": {},
   "outputs": [
    {
     "name": "stdout",
     "output_type": "stream",
     "text": [
      "52\n",
      "52\n"
     ]
    }
   ],
   "source": [
    "# To do trimming, we'll just ask for, the years before 2012\n",
    "\n",
    "\n",
    "gdp_stage_trunc = gdp_stage[gdp_stage['Year'] < 2012]\n",
    "\n",
    "\n",
    "# Then we'll check that our data has the same number of values for both the GDP and the CO2 emissions.\n",
    "\n",
    "\n",
    "print(len(gdp_stage_trunc))\n",
    "\n",
    "print(len(stage))"
   ]
  },
  {
   "cell_type": "markdown",
   "id": "b3f8f2a4",
   "metadata": {},
   "source": [
    "**We have 52 years of data for both.**"
   ]
  },
  {
   "cell_type": "code",
   "execution_count": 40,
   "id": "55397404",
   "metadata": {},
   "outputs": [
    {
     "data": {
      "image/png": "[encoded data removed]",
      "text/plain": [
       "<Figure size 432x288 with 1 Axes>"
      ]
     },
     "metadata": {
      "needs_background": "light"
     },
     "output_type": "display_data"
    }
   ],
   "source": [
    "# to make a scatter plot, we'll first call out the fig and axis\n",
    "\n",
    "\n",
    "%matplotlib inline\n",
    "\n",
    "import matplotlib.pyplot as plt\n",
    "\n",
    "\n",
    "fig, axis = plt.subplots()\n",
    "\n",
    "# Grid lines, Xticks, Xlabel, Ylabel\n",
    "\n",
    "# Most the rest should be fairly recognizable except for the calls and method scatter.\n",
    "\n",
    "# To create a scatter plot with these two arrays.\n",
    "\n",
    "axis.yaxis.grid(True)\n",
    "\n",
    "axis.set_title('CO2 Emissions vs. GDP \\(per capita\\)', fontsize = 10)\n",
    "\n",
    "axis.set_xlabel(gdp_stage_trunc['IndicatorName'].iloc[0], fontsize = 10)\n",
    "\n",
    "axis.set_ylabel(stage['IndicatorName'].iloc[0], fontsize = 10)\n",
    "\n",
    "\n",
    "X = gdp_stage_trunc['Value']\n",
    "\n",
    "Y = stage['Value']\n",
    "\n",
    "\n",
    "axis.scatter(X, Y)\n",
    "\n",
    "plt.show()"
   ]
  },
  {
   "cell_type": "markdown",
   "id": "fd09aeea",
   "metadata": {},
   "source": [
    "**what we get back is a pretty weak relationship.\n",
    "It looks like when, GDP and CO2 emissions were climbing in the 60's\n",
    "they track together. But after that there doesn't seem to be much of a relationship at all. \n",
    "We can test this by looking at correlation**"
   ]
  },
  {
   "cell_type": "code",
   "execution_count": 41,
   "id": "b374d5fb",
   "metadata": {},
   "outputs": [
    {
     "data": {
      "text/plain": [
       "array([[1.        , 0.07676005],\n",
       "       [0.07676005, 1.        ]])"
      ]
     },
     "execution_count": 41,
     "metadata": {},
     "output_type": "execute_result"
    }
   ],
   "source": [
    "# we'll use the correlation coefficient function in numpy to get back the relationship between these two arrays.\n",
    "\n",
    "\n",
    "np.corrcoef(gdp_stage_trunc['Value'], stage['Value'])"
   ]
  },
  {
   "cell_type": "markdown",
   "id": "60701ad9",
   "metadata": {},
   "source": [
    "**The main diagonal is each against itself. So we expect to see 1.0 there or perfect correlation.\n",
    "But on the other diagonal, we see 0.077. That's a really weak correlation between these two indicators.**"
   ]
  },
  {
   "cell_type": "code",
   "execution_count": null,
   "id": "6d6703a5",
   "metadata": {},
   "outputs": [],
   "source": []
  }
 ],
 "metadata": {
  "kernelspec": {
   "display_name": "Python 3",
   "language": "python",
   "name": "python3"
  },
  "language_info": {
   "codemirror_mode": {
    "name": "ipython",
    "version": 3
   },
   "file_extension": ".py",
   "mimetype": "text/x-python",
   "name": "python",
   "nbconvert_exporter": "python",
   "pygments_lexer": "ipython3",
   "version": "3.8.8"
  }
 },
 "nbformat": 4,
 "nbformat_minor": 5
}
